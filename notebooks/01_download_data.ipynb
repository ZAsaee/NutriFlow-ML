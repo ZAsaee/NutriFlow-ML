{
 "cells": [
  {
   "cell_type": "markdown",
   "id": "e83655e8-2e79-4e6c-917e-6eb148f4ee17",
   "metadata": {},
   "source": [
    "## __1. Download the Open Food Dataset__"
   ]
  },
  {
   "cell_type": "code",
   "execution_count": 1,
   "id": "6d0e09f9-111a-4482-bee5-1804901b4c4a",
   "metadata": {
    "execution": {
     "iopub.execute_input": "2025-06-03T22:08:51.233266Z",
     "iopub.status.busy": "2025-06-03T22:08:51.232886Z",
     "iopub.status.idle": "2025-06-03T22:08:51.340653Z",
     "shell.execute_reply": "2025-06-03T22:08:51.339842Z",
     "shell.execute_reply.started": "2025-06-03T22:08:51.233233Z"
    }
   },
   "outputs": [],
   "source": [
    "import requests\n",
    "import os"
   ]
  },
  {
   "cell_type": "code",
   "execution_count": 3,
   "id": "02a1f0ea-cf2e-4487-b6e8-0a5ade7a9ac3",
   "metadata": {
    "execution": {
     "iopub.execute_input": "2025-06-03T22:09:44.164033Z",
     "iopub.status.busy": "2025-06-03T22:09:44.163739Z",
     "iopub.status.idle": "2025-06-03T22:09:44.169702Z",
     "shell.execute_reply": "2025-06-03T22:09:44.169016Z",
     "shell.execute_reply.started": "2025-06-03T22:09:44.164009Z"
    }
   },
   "outputs": [],
   "source": [
    "# Ensure data directory exists\n",
    "os.makedirs(\"../data\", exist_ok=True)"
   ]
  },
  {
   "cell_type": "code",
   "execution_count": 4,
   "id": "b1efb3b0-3890-4f7c-8e08-0b5bc6805007",
   "metadata": {
    "execution": {
     "iopub.execute_input": "2025-06-03T22:17:14.754573Z",
     "iopub.status.busy": "2025-06-03T22:17:14.754046Z",
     "iopub.status.idle": "2025-06-03T22:17:14.758129Z",
     "shell.execute_reply": "2025-06-03T22:17:14.757021Z",
     "shell.execute_reply.started": "2025-06-03T22:17:14.754548Z"
    }
   },
   "outputs": [],
   "source": [
    "# Dataset URL and local save path\n",
    "url = \"https://static.openfoodfacts.org/data/en.openfoodfacts.org.products.csv.gz\"\n",
    "local_path = \"../data/products.csv.gz\""
   ]
  },
  {
   "cell_type": "code",
   "execution_count": 5,
   "id": "64edbad2-b770-44a6-954f-6f2f39801b21",
   "metadata": {
    "execution": {
     "iopub.execute_input": "2025-06-03T22:21:36.259358Z",
     "iopub.status.busy": "2025-06-03T22:21:36.259064Z",
     "iopub.status.idle": "2025-06-03T22:22:09.567013Z",
     "shell.execute_reply": "2025-06-03T22:22:09.566218Z",
     "shell.execute_reply.started": "2025-06-03T22:21:36.259335Z"
    }
   },
   "outputs": [
    {
     "name": "stdout",
     "output_type": "stream",
     "text": [
      "Download complete! Saved to: ../data/products.csv.gz\n"
     ]
    }
   ],
   "source": [
    "# Download with streaming in chuncks\n",
    "response = requests.get(url, stream=True)\n",
    "with open(local_path, \"wb\") as f:\n",
    "    for chunk in response.iter_content(chunk_size=1024):\n",
    "        if chunk:\n",
    "            f.write(chunk)\n",
    "print(\"Download complete! Saved to:\", local_path)"
   ]
  },
  {
   "cell_type": "code",
   "execution_count": 6,
   "id": "c4aa39ca-be9a-4abb-9876-c0e5a6007a72",
   "metadata": {
    "execution": {
     "iopub.execute_input": "2025-06-03T22:23:18.162027Z",
     "iopub.status.busy": "2025-06-03T22:23:18.161760Z",
     "iopub.status.idle": "2025-06-03T22:23:18.661149Z",
     "shell.execute_reply": "2025-06-03T22:23:18.660464Z",
     "shell.execute_reply.started": "2025-06-03T22:23:18.162007Z"
    }
   },
   "outputs": [],
   "source": [
    "import pandas as pd\n",
    "import gzip"
   ]
  },
  {
   "cell_type": "code",
   "execution_count": 7,
   "id": "4d1e1dfb-adb1-43f5-ac6b-3a2c40711299",
   "metadata": {
    "execution": {
     "iopub.execute_input": "2025-06-03T22:25:21.529372Z",
     "iopub.status.busy": "2025-06-03T22:25:21.528778Z",
     "iopub.status.idle": "2025-06-03T22:25:21.707617Z",
     "shell.execute_reply": "2025-06-03T22:25:21.706851Z",
     "shell.execute_reply.started": "2025-06-03T22:25:21.529345Z"
    }
   },
   "outputs": [],
   "source": [
    "# Load the first 1000 rows using gzip\n",
    "with gzip.open(local_path, 'rt', encoding='utf-8') as f:\n",
    "    df = pd.read_csv(f, sep='\\t', nrows=1000, on_bad_lines='skip')"
   ]
  },
  {
   "cell_type": "code",
   "execution_count": 10,
   "id": "b1f0b908-56f9-4c16-98b7-513ba57ffce6",
   "metadata": {
    "execution": {
     "iopub.execute_input": "2025-06-03T22:27:00.907059Z",
     "iopub.status.busy": "2025-06-03T22:27:00.906311Z",
     "iopub.status.idle": "2025-06-03T22:27:00.926166Z",
     "shell.execute_reply": "2025-06-03T22:27:00.925365Z",
     "shell.execute_reply.started": "2025-06-03T22:27:00.907030Z"
    }
   },
   "outputs": [
    {
     "name": "stdout",
     "output_type": "stream",
     "text": [
      "Sample loaded. Shape: (1000, 209)\n"
     ]
    },
    {
     "data": {
      "text/html": [
       "<div>\n",
       "<style scoped>\n",
       "    .dataframe tbody tr th:only-of-type {\n",
       "        vertical-align: middle;\n",
       "    }\n",
       "\n",
       "    .dataframe tbody tr th {\n",
       "        vertical-align: top;\n",
       "    }\n",
       "\n",
       "    .dataframe thead th {\n",
       "        text-align: right;\n",
       "    }\n",
       "</style>\n",
       "<table border=\"1\" class=\"dataframe\">\n",
       "  <thead>\n",
       "    <tr style=\"text-align: right;\">\n",
       "      <th></th>\n",
       "      <th>code</th>\n",
       "      <th>url</th>\n",
       "      <th>creator</th>\n",
       "      <th>created_t</th>\n",
       "      <th>created_datetime</th>\n",
       "      <th>last_modified_t</th>\n",
       "      <th>last_modified_datetime</th>\n",
       "      <th>last_modified_by</th>\n",
       "      <th>last_updated_t</th>\n",
       "      <th>last_updated_datetime</th>\n",
       "      <th>...</th>\n",
       "      <th>water-hardness_100g</th>\n",
       "      <th>choline_100g</th>\n",
       "      <th>phylloquinone_100g</th>\n",
       "      <th>beta-glucan_100g</th>\n",
       "      <th>inositol_100g</th>\n",
       "      <th>carnitine_100g</th>\n",
       "      <th>sulphate_100g</th>\n",
       "      <th>nitrate_100g</th>\n",
       "      <th>acidity_100g</th>\n",
       "      <th>carbohydrates-total_100g</th>\n",
       "    </tr>\n",
       "  </thead>\n",
       "  <tbody>\n",
       "    <tr>\n",
       "      <th>0</th>\n",
       "      <td>54</td>\n",
       "      <td>http://world-en.openfoodfacts.org/product/0000...</td>\n",
       "      <td>kiliweb</td>\n",
       "      <td>1582569031</td>\n",
       "      <td>2020-02-24T18:30:31Z</td>\n",
       "      <td>1733085204</td>\n",
       "      <td>2024-12-01T20:33:24Z</td>\n",
       "      <td>NaN</td>\n",
       "      <td>1740205422</td>\n",
       "      <td>2025-02-22T06:23:42Z</td>\n",
       "      <td>...</td>\n",
       "      <td>NaN</td>\n",
       "      <td>NaN</td>\n",
       "      <td>NaN</td>\n",
       "      <td>NaN</td>\n",
       "      <td>NaN</td>\n",
       "      <td>NaN</td>\n",
       "      <td>NaN</td>\n",
       "      <td>NaN</td>\n",
       "      <td>NaN</td>\n",
       "      <td>NaN</td>\n",
       "    </tr>\n",
       "    <tr>\n",
       "      <th>1</th>\n",
       "      <td>63</td>\n",
       "      <td>http://world-en.openfoodfacts.org/product/0000...</td>\n",
       "      <td>kiliweb</td>\n",
       "      <td>1673620307</td>\n",
       "      <td>2023-01-13T14:31:47Z</td>\n",
       "      <td>1746258398</td>\n",
       "      <td>2025-05-03T07:46:38Z</td>\n",
       "      <td>roboto-app</td>\n",
       "      <td>1746258398</td>\n",
       "      <td>2025-05-03T07:46:38Z</td>\n",
       "      <td>...</td>\n",
       "      <td>NaN</td>\n",
       "      <td>NaN</td>\n",
       "      <td>NaN</td>\n",
       "      <td>NaN</td>\n",
       "      <td>NaN</td>\n",
       "      <td>NaN</td>\n",
       "      <td>NaN</td>\n",
       "      <td>NaN</td>\n",
       "      <td>NaN</td>\n",
       "      <td>NaN</td>\n",
       "    </tr>\n",
       "    <tr>\n",
       "      <th>2</th>\n",
       "      <td>114</td>\n",
       "      <td>http://world-en.openfoodfacts.org/product/0000...</td>\n",
       "      <td>kiliweb</td>\n",
       "      <td>1580066482</td>\n",
       "      <td>2020-01-26T19:21:22Z</td>\n",
       "      <td>1737247862</td>\n",
       "      <td>2025-01-19T00:51:02Z</td>\n",
       "      <td>smoothie-app</td>\n",
       "      <td>1743312145</td>\n",
       "      <td>2025-03-30T05:22:25Z</td>\n",
       "      <td>...</td>\n",
       "      <td>NaN</td>\n",
       "      <td>NaN</td>\n",
       "      <td>NaN</td>\n",
       "      <td>NaN</td>\n",
       "      <td>NaN</td>\n",
       "      <td>NaN</td>\n",
       "      <td>NaN</td>\n",
       "      <td>NaN</td>\n",
       "      <td>NaN</td>\n",
       "      <td>NaN</td>\n",
       "    </tr>\n",
       "    <tr>\n",
       "      <th>3</th>\n",
       "      <td>1</td>\n",
       "      <td>http://world-en.openfoodfacts.org/product/0000...</td>\n",
       "      <td>inf</td>\n",
       "      <td>1634745456</td>\n",
       "      <td>2021-10-20T15:57:36Z</td>\n",
       "      <td>1748552638</td>\n",
       "      <td>2025-05-29T21:03:58Z</td>\n",
       "      <td>fitcounter</td>\n",
       "      <td>1748552638</td>\n",
       "      <td>2025-05-29T21:03:58Z</td>\n",
       "      <td>...</td>\n",
       "      <td>NaN</td>\n",
       "      <td>NaN</td>\n",
       "      <td>NaN</td>\n",
       "      <td>NaN</td>\n",
       "      <td>NaN</td>\n",
       "      <td>NaN</td>\n",
       "      <td>NaN</td>\n",
       "      <td>NaN</td>\n",
       "      <td>NaN</td>\n",
       "      <td>NaN</td>\n",
       "    </tr>\n",
       "    <tr>\n",
       "      <th>4</th>\n",
       "      <td>105</td>\n",
       "      <td>http://world-en.openfoodfacts.org/product/0000...</td>\n",
       "      <td>kiliweb</td>\n",
       "      <td>1572117743</td>\n",
       "      <td>2019-10-26T19:22:23Z</td>\n",
       "      <td>1738073570</td>\n",
       "      <td>2025-01-28T14:12:50Z</td>\n",
       "      <td>NaN</td>\n",
       "      <td>1743653496</td>\n",
       "      <td>2025-04-03T04:11:36Z</td>\n",
       "      <td>...</td>\n",
       "      <td>NaN</td>\n",
       "      <td>NaN</td>\n",
       "      <td>NaN</td>\n",
       "      <td>NaN</td>\n",
       "      <td>NaN</td>\n",
       "      <td>NaN</td>\n",
       "      <td>NaN</td>\n",
       "      <td>NaN</td>\n",
       "      <td>NaN</td>\n",
       "      <td>NaN</td>\n",
       "    </tr>\n",
       "    <tr>\n",
       "      <th>5</th>\n",
       "      <td>2</td>\n",
       "      <td>http://world-en.openfoodfacts.org/product/0000...</td>\n",
       "      <td>kiliweb</td>\n",
       "      <td>1722606455</td>\n",
       "      <td>2024-08-02T13:47:35Z</td>\n",
       "      <td>1748553804</td>\n",
       "      <td>2025-05-29T21:23:24Z</td>\n",
       "      <td>prepperapp</td>\n",
       "      <td>1748553804</td>\n",
       "      <td>2025-05-29T21:23:24Z</td>\n",
       "      <td>...</td>\n",
       "      <td>NaN</td>\n",
       "      <td>NaN</td>\n",
       "      <td>NaN</td>\n",
       "      <td>NaN</td>\n",
       "      <td>NaN</td>\n",
       "      <td>NaN</td>\n",
       "      <td>NaN</td>\n",
       "      <td>NaN</td>\n",
       "      <td>NaN</td>\n",
       "      <td>NaN</td>\n",
       "    </tr>\n",
       "    <tr>\n",
       "      <th>6</th>\n",
       "      <td>3</td>\n",
       "      <td>http://world-en.openfoodfacts.org/product/0000...</td>\n",
       "      <td>prepperapp</td>\n",
       "      <td>1716818343</td>\n",
       "      <td>2024-05-27T13:59:03Z</td>\n",
       "      <td>1748608673</td>\n",
       "      <td>2025-05-30T12:37:53Z</td>\n",
       "      <td>brio1981</td>\n",
       "      <td>1748608673</td>\n",
       "      <td>2025-05-30T12:37:53Z</td>\n",
       "      <td>...</td>\n",
       "      <td>NaN</td>\n",
       "      <td>NaN</td>\n",
       "      <td>NaN</td>\n",
       "      <td>NaN</td>\n",
       "      <td>NaN</td>\n",
       "      <td>NaN</td>\n",
       "      <td>NaN</td>\n",
       "      <td>NaN</td>\n",
       "      <td>NaN</td>\n",
       "      <td>NaN</td>\n",
       "    </tr>\n",
       "    <tr>\n",
       "      <th>7</th>\n",
       "      <td>4</td>\n",
       "      <td>http://world-en.openfoodfacts.org/product/0000...</td>\n",
       "      <td>elcoco</td>\n",
       "      <td>1560176426</td>\n",
       "      <td>2019-06-10T14:20:26Z</td>\n",
       "      <td>1748094869</td>\n",
       "      <td>2025-05-24T13:54:29Z</td>\n",
       "      <td>smoothie-app</td>\n",
       "      <td>1748094869</td>\n",
       "      <td>2025-05-24T13:54:29Z</td>\n",
       "      <td>...</td>\n",
       "      <td>NaN</td>\n",
       "      <td>NaN</td>\n",
       "      <td>NaN</td>\n",
       "      <td>NaN</td>\n",
       "      <td>NaN</td>\n",
       "      <td>NaN</td>\n",
       "      <td>NaN</td>\n",
       "      <td>NaN</td>\n",
       "      <td>NaN</td>\n",
       "      <td>NaN</td>\n",
       "    </tr>\n",
       "    <tr>\n",
       "      <th>8</th>\n",
       "      <td>475</td>\n",
       "      <td>http://world-en.openfoodfacts.org/product/0000...</td>\n",
       "      <td>kiliweb</td>\n",
       "      <td>1714206330</td>\n",
       "      <td>2024-04-27T08:25:30Z</td>\n",
       "      <td>1714207074</td>\n",
       "      <td>2024-04-27T08:37:54Z</td>\n",
       "      <td>roboto-app</td>\n",
       "      <td>1740362538</td>\n",
       "      <td>2025-02-24T02:02:18Z</td>\n",
       "      <td>...</td>\n",
       "      <td>NaN</td>\n",
       "      <td>NaN</td>\n",
       "      <td>NaN</td>\n",
       "      <td>NaN</td>\n",
       "      <td>NaN</td>\n",
       "      <td>NaN</td>\n",
       "      <td>NaN</td>\n",
       "      <td>NaN</td>\n",
       "      <td>NaN</td>\n",
       "      <td>NaN</td>\n",
       "    </tr>\n",
       "    <tr>\n",
       "      <th>9</th>\n",
       "      <td>5</td>\n",
       "      <td>http://world-en.openfoodfacts.org/product/0000...</td>\n",
       "      <td>touchette</td>\n",
       "      <td>1605337720</td>\n",
       "      <td>2020-11-14T07:08:40Z</td>\n",
       "      <td>1746375623</td>\n",
       "      <td>2025-05-04T16:20:23Z</td>\n",
       "      <td>detrumpezvous</td>\n",
       "      <td>1746375623</td>\n",
       "      <td>2025-05-04T16:20:23Z</td>\n",
       "      <td>...</td>\n",
       "      <td>NaN</td>\n",
       "      <td>NaN</td>\n",
       "      <td>NaN</td>\n",
       "      <td>NaN</td>\n",
       "      <td>NaN</td>\n",
       "      <td>NaN</td>\n",
       "      <td>NaN</td>\n",
       "      <td>NaN</td>\n",
       "      <td>NaN</td>\n",
       "      <td>NaN</td>\n",
       "    </tr>\n",
       "  </tbody>\n",
       "</table>\n",
       "<p>10 rows × 209 columns</p>\n",
       "</div>"
      ],
      "text/plain": [
       "   code                                                url     creator  \\\n",
       "0    54  http://world-en.openfoodfacts.org/product/0000...     kiliweb   \n",
       "1    63  http://world-en.openfoodfacts.org/product/0000...     kiliweb   \n",
       "2   114  http://world-en.openfoodfacts.org/product/0000...     kiliweb   \n",
       "3     1  http://world-en.openfoodfacts.org/product/0000...         inf   \n",
       "4   105  http://world-en.openfoodfacts.org/product/0000...     kiliweb   \n",
       "5     2  http://world-en.openfoodfacts.org/product/0000...     kiliweb   \n",
       "6     3  http://world-en.openfoodfacts.org/product/0000...  prepperapp   \n",
       "7     4  http://world-en.openfoodfacts.org/product/0000...      elcoco   \n",
       "8   475  http://world-en.openfoodfacts.org/product/0000...     kiliweb   \n",
       "9     5  http://world-en.openfoodfacts.org/product/0000...   touchette   \n",
       "\n",
       "    created_t      created_datetime  last_modified_t last_modified_datetime  \\\n",
       "0  1582569031  2020-02-24T18:30:31Z       1733085204   2024-12-01T20:33:24Z   \n",
       "1  1673620307  2023-01-13T14:31:47Z       1746258398   2025-05-03T07:46:38Z   \n",
       "2  1580066482  2020-01-26T19:21:22Z       1737247862   2025-01-19T00:51:02Z   \n",
       "3  1634745456  2021-10-20T15:57:36Z       1748552638   2025-05-29T21:03:58Z   \n",
       "4  1572117743  2019-10-26T19:22:23Z       1738073570   2025-01-28T14:12:50Z   \n",
       "5  1722606455  2024-08-02T13:47:35Z       1748553804   2025-05-29T21:23:24Z   \n",
       "6  1716818343  2024-05-27T13:59:03Z       1748608673   2025-05-30T12:37:53Z   \n",
       "7  1560176426  2019-06-10T14:20:26Z       1748094869   2025-05-24T13:54:29Z   \n",
       "8  1714206330  2024-04-27T08:25:30Z       1714207074   2024-04-27T08:37:54Z   \n",
       "9  1605337720  2020-11-14T07:08:40Z       1746375623   2025-05-04T16:20:23Z   \n",
       "\n",
       "  last_modified_by  last_updated_t last_updated_datetime  ...  \\\n",
       "0              NaN      1740205422  2025-02-22T06:23:42Z  ...   \n",
       "1       roboto-app      1746258398  2025-05-03T07:46:38Z  ...   \n",
       "2     smoothie-app      1743312145  2025-03-30T05:22:25Z  ...   \n",
       "3       fitcounter      1748552638  2025-05-29T21:03:58Z  ...   \n",
       "4              NaN      1743653496  2025-04-03T04:11:36Z  ...   \n",
       "5       prepperapp      1748553804  2025-05-29T21:23:24Z  ...   \n",
       "6         brio1981      1748608673  2025-05-30T12:37:53Z  ...   \n",
       "7     smoothie-app      1748094869  2025-05-24T13:54:29Z  ...   \n",
       "8       roboto-app      1740362538  2025-02-24T02:02:18Z  ...   \n",
       "9    detrumpezvous      1746375623  2025-05-04T16:20:23Z  ...   \n",
       "\n",
       "  water-hardness_100g  choline_100g phylloquinone_100g beta-glucan_100g  \\\n",
       "0                 NaN           NaN                NaN              NaN   \n",
       "1                 NaN           NaN                NaN              NaN   \n",
       "2                 NaN           NaN                NaN              NaN   \n",
       "3                 NaN           NaN                NaN              NaN   \n",
       "4                 NaN           NaN                NaN              NaN   \n",
       "5                 NaN           NaN                NaN              NaN   \n",
       "6                 NaN           NaN                NaN              NaN   \n",
       "7                 NaN           NaN                NaN              NaN   \n",
       "8                 NaN           NaN                NaN              NaN   \n",
       "9                 NaN           NaN                NaN              NaN   \n",
       "\n",
       "  inositol_100g carnitine_100g sulphate_100g nitrate_100g acidity_100g  \\\n",
       "0           NaN            NaN           NaN          NaN          NaN   \n",
       "1           NaN            NaN           NaN          NaN          NaN   \n",
       "2           NaN            NaN           NaN          NaN          NaN   \n",
       "3           NaN            NaN           NaN          NaN          NaN   \n",
       "4           NaN            NaN           NaN          NaN          NaN   \n",
       "5           NaN            NaN           NaN          NaN          NaN   \n",
       "6           NaN            NaN           NaN          NaN          NaN   \n",
       "7           NaN            NaN           NaN          NaN          NaN   \n",
       "8           NaN            NaN           NaN          NaN          NaN   \n",
       "9           NaN            NaN           NaN          NaN          NaN   \n",
       "\n",
       "  carbohydrates-total_100g  \n",
       "0                      NaN  \n",
       "1                      NaN  \n",
       "2                      NaN  \n",
       "3                      NaN  \n",
       "4                      NaN  \n",
       "5                      NaN  \n",
       "6                      NaN  \n",
       "7                      NaN  \n",
       "8                      NaN  \n",
       "9                      NaN  \n",
       "\n",
       "[10 rows x 209 columns]"
      ]
     },
     "execution_count": 10,
     "metadata": {},
     "output_type": "execute_result"
    }
   ],
   "source": [
    "# Preview a chunck of dataset\n",
    "print(f\"Sample loaded. Shape: {df.shape}\")\n",
    "df.head(10)"
   ]
  },
  {
   "cell_type": "code",
   "execution_count": 17,
   "id": "3451836b-3661-4000-a035-3222b64c187a",
   "metadata": {
    "execution": {
     "iopub.execute_input": "2025-06-03T22:30:53.138946Z",
     "iopub.status.busy": "2025-06-03T22:30:53.138537Z",
     "iopub.status.idle": "2025-06-03T22:30:53.143588Z",
     "shell.execute_reply": "2025-06-03T22:30:53.142743Z",
     "shell.execute_reply.started": "2025-06-03T22:30:53.138921Z"
    }
   },
   "outputs": [
    {
     "data": {
      "text/plain": [
       "Index(['code', 'url', 'creator', 'created_t', 'created_datetime',\n",
       "       'last_modified_t', 'last_modified_datetime', 'last_modified_by',\n",
       "       'last_updated_t', 'last_updated_datetime', 'product_name',\n",
       "       'abbreviated_product_name', 'generic_name', 'quantity', 'packaging',\n",
       "       'packaging_tags', 'packaging_en', 'packaging_text', 'brands',\n",
       "       'brands_tags'],\n",
       "      dtype='object')"
      ]
     },
     "execution_count": 17,
     "metadata": {},
     "output_type": "execute_result"
    }
   ],
   "source": [
    "df.columns[:20]"
   ]
  },
  {
   "cell_type": "code",
   "execution_count": 18,
   "id": "c72f418d-149d-4803-9c4f-40d1e98aeb74",
   "metadata": {
    "execution": {
     "iopub.execute_input": "2025-06-03T22:31:05.509556Z",
     "iopub.status.busy": "2025-06-03T22:31:05.509283Z",
     "iopub.status.idle": "2025-06-03T22:31:05.515539Z",
     "shell.execute_reply": "2025-06-03T22:31:05.514980Z",
     "shell.execute_reply.started": "2025-06-03T22:31:05.509534Z"
    }
   },
   "outputs": [
    {
     "data": {
      "text/plain": [
       "0                  Limonade artisanale a la rose\n",
       "1                                 CIABATTA OLIVE\n",
       "2                                  Chocolate n 3\n",
       "3      Weihnachtsgelee (selbstgemacht von Jutta)\n",
       "4           Paleta gran reserva - Sierra nevada-\n",
       "                         ...                    \n",
       "995                                          NaN\n",
       "996                          bevanda al mirtillo\n",
       "997                                     Collagen\n",
       "998                          impact protein whey\n",
       "999                                        Toast\n",
       "Name: product_name, Length: 1000, dtype: object"
      ]
     },
     "execution_count": 18,
     "metadata": {},
     "output_type": "execute_result"
    }
   ],
   "source": [
    "df['product_name']"
   ]
  },
  {
   "cell_type": "markdown",
   "id": "1b2e0d3c-e7b9-4662-b70d-b83e0d5137d6",
   "metadata": {},
   "source": [
    "## __2. Upload the Raw File to S3 Bucket__"
   ]
  },
  {
   "cell_type": "code",
   "execution_count": 23,
   "id": "ef295564-46d7-45ee-9759-a7e39f7899b3",
   "metadata": {
    "execution": {
     "iopub.execute_input": "2025-06-03T22:35:16.142658Z",
     "iopub.status.busy": "2025-06-03T22:35:16.142299Z",
     "iopub.status.idle": "2025-06-03T22:35:16.256747Z",
     "shell.execute_reply": "2025-06-03T22:35:16.256080Z",
     "shell.execute_reply.started": "2025-06-03T22:35:16.142633Z"
    }
   },
   "outputs": [],
   "source": [
    "import boto3"
   ]
  },
  {
   "cell_type": "code",
   "execution_count": 24,
   "id": "6280b27c-d234-40cb-b35f-abdf5f8844bd",
   "metadata": {
    "execution": {
     "iopub.execute_input": "2025-06-03T22:36:33.013659Z",
     "iopub.status.busy": "2025-06-03T22:36:33.012884Z",
     "iopub.status.idle": "2025-06-03T22:36:33.017044Z",
     "shell.execute_reply": "2025-06-03T22:36:33.016092Z",
     "shell.execute_reply.started": "2025-06-03T22:36:33.013629Z"
    }
   },
   "outputs": [],
   "source": [
    "# Define S3 bucket and object key\n",
    "bucket_name = \"nutriflow-pipeline\"\n",
    "object_key = \"raw/products.csv.gz\"\n",
    "local_path = \"../data/products.csv.gz\""
   ]
  },
  {
   "cell_type": "code",
   "execution_count": 28,
   "id": "8b36833b-2c17-40d2-847e-a3d9398a3ea8",
   "metadata": {
    "execution": {
     "iopub.execute_input": "2025-06-03T22:46:32.354160Z",
     "iopub.status.busy": "2025-06-03T22:46:32.353784Z",
     "iopub.status.idle": "2025-06-03T22:46:38.720416Z",
     "shell.execute_reply": "2025-06-03T22:46:38.719573Z",
     "shell.execute_reply.started": "2025-06-03T22:46:32.354135Z"
    }
   },
   "outputs": [
    {
     "name": "stdout",
     "output_type": "stream",
     "text": [
      "Raw dataset uploaded to: nutriflow-pipeline/raw/products.csv.gz\n"
     ]
    }
   ],
   "source": [
    "# Upload to S3\n",
    "s3 = boto3.client(\"s3\")\n",
    "s3.upload_file(local_path, bucket_name, object_key)\n",
    "\n",
    "print(f\"Raw dataset uploaded to: {bucket_name}/{object_key}\")"
   ]
  }
 ],
 "metadata": {
  "kernelspec": {
   "display_name": "Python 3 (ipykernel)",
   "language": "python",
   "name": "python3"
  },
  "language_info": {
   "codemirror_mode": {
    "name": "ipython",
    "version": 3
   },
   "file_extension": ".py",
   "mimetype": "text/x-python",
   "name": "python",
   "nbconvert_exporter": "python",
   "pygments_lexer": "ipython3",
   "version": "3.12.9"
  }
 },
 "nbformat": 4,
 "nbformat_minor": 5
}

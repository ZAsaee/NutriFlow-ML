{
 "cells": [
  {
   "cell_type": "code",
   "execution_count": 1,
   "id": "495cded9-1858-4fde-ade7-7dc16c1cbf41",
   "metadata": {
    "editable": true,
    "execution": {
     "iopub.execute_input": "2025-06-13T23:24:43.097168Z",
     "iopub.status.busy": "2025-06-13T23:24:43.096971Z",
     "iopub.status.idle": "2025-06-13T23:24:43.667429Z",
     "shell.execute_reply": "2025-06-13T23:24:43.666645Z",
     "shell.execute_reply.started": "2025-06-13T23:24:43.097148Z"
    },
    "slideshow": {
     "slide_type": ""
    },
    "tags": []
   },
   "outputs": [],
   "source": [
    "import boto3\n",
    "import gzip\n",
    "import json\n",
    "import pandas as pd\n",
    "from collections import Counter\n",
    "\n",
    "from IPython.display import display"
   ]
  },
  {
   "cell_type": "code",
   "execution_count": 2,
   "id": "4d3fc7c9-f425-4a8e-b35b-ca74bcce3b40",
   "metadata": {
    "editable": true,
    "execution": {
     "iopub.execute_input": "2025-06-13T23:24:43.670082Z",
     "iopub.status.busy": "2025-06-13T23:24:43.669724Z",
     "iopub.status.idle": "2025-06-13T23:24:43.673692Z",
     "shell.execute_reply": "2025-06-13T23:24:43.672951Z",
     "shell.execute_reply.started": "2025-06-13T23:24:43.670058Z"
    },
    "slideshow": {
     "slide_type": ""
    },
    "tags": []
   },
   "outputs": [],
   "source": [
    "pd.set_option('display.max_rows', None)\n",
    "pd.set_option('display.max_columns', None)"
   ]
  },
  {
   "cell_type": "markdown",
   "id": "98c3419c-fa20-4251-bb9b-72cfd27abbc1",
   "metadata": {},
   "source": [
    "## 1. Load and inspect JSON file"
   ]
  },
  {
   "cell_type": "code",
   "execution_count": 3,
   "id": "a97382b5-d84e-4ed4-bd71-b59769f235b5",
   "metadata": {
    "editable": true,
    "execution": {
     "iopub.execute_input": "2025-06-13T23:24:43.910817Z",
     "iopub.status.busy": "2025-06-13T23:24:43.910438Z",
     "iopub.status.idle": "2025-06-13T23:24:44.164600Z",
     "shell.execute_reply": "2025-06-13T23:24:44.163687Z",
     "shell.execute_reply.started": "2025-06-13T23:24:43.910791Z"
    },
    "slideshow": {
     "slide_type": ""
    },
    "tags": []
   },
   "outputs": [],
   "source": [
    "# Open the JSON dataset on s3 bucket\n",
    "s3_client = boto3.client('s3')\n",
    "BUCKET = 'nutriflow-pipeline'\n",
    "KEY = 'phase-a/raw/openfoodfacts-products.jsonl.gz'\n",
    "\n",
    "obj = s3_client.get_object(Bucket=BUCKET, Key=KEY)"
   ]
  },
  {
   "cell_type": "markdown",
   "id": "a9aa4ac3-0b4a-4444-853c-490d23bfe5ae",
   "metadata": {},
   "source": [
    "First, I check how many valid records of each grade we have in a chunk of dataset"
   ]
  },
  {
   "cell_type": "code",
   "execution_count": 4,
   "id": "7723fa0a-00a4-42b7-9e4d-f1e5a67098d0",
   "metadata": {
    "execution": {
     "iopub.execute_input": "2025-06-13T23:24:44.631370Z",
     "iopub.status.busy": "2025-06-13T23:24:44.630732Z",
     "iopub.status.idle": "2025-06-13T23:24:44.634955Z",
     "shell.execute_reply": "2025-06-13T23:24:44.634182Z",
     "shell.execute_reply.started": "2025-06-13T23:24:44.631339Z"
    }
   },
   "outputs": [],
   "source": [
    "# Specify the required features to extract\n",
    "numeric_fields = [\"energy_100g\",\n",
    "                    \"carbohydrates_100g\", \"fat_100g\",\n",
    "                    \"saturated-fat_100g\", \"sugars_100g\",\n",
    "                    \"salt_100g\", \"proteins_100g\"]"
   ]
  },
  {
   "cell_type": "code",
   "execution_count": 5,
   "id": "00200468-5ef8-4de9-8f79-c0cdd000fcb3",
   "metadata": {
    "execution": {
     "iopub.execute_input": "2025-06-13T23:24:45.087326Z",
     "iopub.status.busy": "2025-06-13T23:24:45.086790Z",
     "iopub.status.idle": "2025-06-13T23:24:50.662694Z",
     "shell.execute_reply": "2025-06-13T23:24:50.661953Z",
     "shell.execute_reply.started": "2025-06-13T23:24:45.087301Z"
    }
   },
   "outputs": [
    {
     "name": "stdout",
     "output_type": "stream",
     "text": [
      "Processed 10000 valid records\n",
      "Nutri-Score distribution: {'e': 3568, 'd': 1738, 'unknown': 636, 'c': 1191, 'b': 772, 'a': 2067, 'not-applicable': 28}\n"
     ]
    }
   ],
   "source": [
    "# Extract the data and count valid data for each class\n",
    "counts = Counter()\n",
    "valid_recs = 0\n",
    "Max_lines = 10000\n",
    "\n",
    "# Stream, filter and count\n",
    "with gzip.GzipFile(fileobj=obj['Body']) as gz:\n",
    "    for raw_bytes in gz:\n",
    "        line = raw_bytes.decode('utf-8')\n",
    "        item = json.loads(line)\n",
    "        \n",
    "        grade = item.get('nutrition_grade_fr')\n",
    "        nutr = item.get('nutriments', {})\n",
    "        # Filter only valid data with all numeric fields\n",
    "        if not grade or any(nutr.get(field) is None for field in numeric_fields):\n",
    "            continue\n",
    "        \n",
    "        counts[grade] += 1\n",
    "        valid_recs += 1\n",
    "        if valid_recs >= Max_lines:\n",
    "            break\n",
    "\n",
    "print(f\"Processed {valid_recs} valid records\")\n",
    "print(f\"Nutri-Score distribution:\", dict(counts))"
   ]
  },
  {
   "cell_type": "markdown",
   "id": "eed31968-f299-4c88-bb43-52ee7a03635d",
   "metadata": {},
   "source": [
    "There are records with invalid nutrition score, so I did the counting again based on only valid scores."
   ]
  },
  {
   "cell_type": "code",
   "execution_count": 8,
   "id": "9bf80ee1-91fb-43f1-8bdd-30da3b914f99",
   "metadata": {
    "execution": {
     "iopub.execute_input": "2025-06-13T23:34:51.008196Z",
     "iopub.status.busy": "2025-06-13T23:34:51.007638Z",
     "iopub.status.idle": "2025-06-13T23:35:55.082358Z",
     "shell.execute_reply": "2025-06-13T23:35:55.081538Z",
     "shell.execute_reply.started": "2025-06-13T23:34:51.008171Z"
    }
   },
   "outputs": [
    {
     "name": "stdout",
     "output_type": "stream",
     "text": [
      "Processed 100000 valid records\n",
      "Nutri-Score distribution: {'e': 33508, 'd': 23706, 'c': 15626, 'b': 8300, 'a': 18860}\n"
     ]
    }
   ],
   "source": [
    "obj = s3_client.get_object(Bucket=BUCKET, Key=KEY)\n",
    "counts = Counter()\n",
    "valid_recs = 0\n",
    "Max_lines = 100_000\n",
    "\n",
    "# Stream, filter and count\n",
    "with gzip.GzipFile(fileobj=obj['Body']) as gz:\n",
    "    for raw_bytes in gz:\n",
    "        line = raw_bytes.decode('utf-8')\n",
    "        item = json.loads(line)\n",
    "        \n",
    "        grade = item.get('nutrition_grade_fr')\n",
    "        # Filter only valid nutrition scores\n",
    "        if grade not in ('a', 'b', 'c', 'd', 'e'):\n",
    "            continue\n",
    "            \n",
    "        nutr = item.get('nutriments', {})\n",
    "        # Filter only valid data with all numeric fields\n",
    "        if not grade or any(nutr.get(field) is None for field in numeric_fields):\n",
    "            continue\n",
    "        \n",
    "        counts[grade] += 1\n",
    "        valid_recs += 1\n",
    "        if valid_recs >= Max_lines:\n",
    "            break\n",
    "\n",
    "print(f\"Processed {valid_recs} valid records\")\n",
    "print(f\"Nutri-Score distribution:\", dict(counts))"
   ]
  },
  {
   "cell_type": "code",
   "execution_count": null,
   "id": "7b7b305c-4f99-4456-bcc6-7340452c257e",
   "metadata": {
    "execution": {
     "iopub.status.busy": "2025-06-13T23:24:50.945179Z",
     "iopub.status.idle": "2025-06-13T23:24:50.945443Z",
     "shell.execute_reply": "2025-06-13T23:24:50.945335Z",
     "shell.execute_reply.started": "2025-06-13T23:24:50.945324Z"
    }
   },
   "outputs": [],
   "source": [
    "\n",
    "core_fields = [\n",
    "    \"code\",  \n",
    "    \"nutrition_grade_fr\", \n",
    "    \"nutriments.energy_100g\",\n",
    "    \"nutriments.carbohydrates_100g\", \"nutriments.fat_100g\",\n",
    "    \"nutriments.saturated-fat_100g\", \"nutriments.sugars_100g\",\n",
    "    \"nutriments.salt_100g\", \"nutriments.proteins_100g\"\n",
    "]\n",
    "\n",
    "#  Function to read json file and extract all core fields and save as a datafram \n",
    "def json_to_dataframe(file_path, fields, max_lines=None):\n",
    "    records = []\n",
    "    \n",
    "    with gzip.open(file_path, 'rt', encoding='utf-8') as f:\n",
    "        for i, line in enumerate(f):\n",
    "            if max_lines and i >= max_lines:\n",
    "                break\n",
    "            if line.strip():\n",
    "                item = json.loads(line)\n",
    "                record = {\n",
    "                    field.split('.')[-1]: extract_value(item, field)\n",
    "                    for field in fields\n",
    "                }\n",
    "                records.append(record)\n",
    "    return pd.DataFrame(records)"
   ]
  },
  {
   "cell_type": "code",
   "execution_count": 4,
   "id": "408e0309-f826-4f0a-b971-35793601f5b2",
   "metadata": {
    "execution": {
     "iopub.execute_input": "2025-06-05T23:25:38.539648Z",
     "iopub.status.busy": "2025-06-05T23:25:38.539336Z",
     "iopub.status.idle": "2025-06-05T23:29:33.437289Z",
     "shell.execute_reply": "2025-06-05T23:29:33.436605Z",
     "shell.execute_reply.started": "2025-06-05T23:25:38.539627Z"
    },
    "scrolled": true
   },
   "outputs": [],
   "source": [
    "file_path = \"../data/openfoodfacts-products.jsonl.gz\"\n",
    "df = json_to_dataframe(file_path, core_fields, max_lines=500_000)"
   ]
  },
  {
   "cell_type": "code",
   "execution_count": 8,
   "id": "c872cb6c-2b18-46b9-bbeb-782e9a3e3f7c",
   "metadata": {
    "execution": {
     "iopub.execute_input": "2025-06-05T23:30:13.879950Z",
     "iopub.status.busy": "2025-06-05T23:30:13.879649Z",
     "iopub.status.idle": "2025-06-05T23:30:13.884686Z",
     "shell.execute_reply": "2025-06-05T23:30:13.883751Z",
     "shell.execute_reply.started": "2025-06-05T23:30:13.879925Z"
    }
   },
   "outputs": [
    {
     "data": {
      "text/plain": [
       "(500000, 13)"
      ]
     },
     "execution_count": 8,
     "metadata": {},
     "output_type": "execute_result"
    }
   ],
   "source": [
    "df.shape"
   ]
  },
  {
   "cell_type": "code",
   "execution_count": 9,
   "id": "20b0e8dd-9805-4d52-8e0a-25e5924aa5c2",
   "metadata": {
    "execution": {
     "iopub.execute_input": "2025-06-05T23:32:03.542439Z",
     "iopub.status.busy": "2025-06-05T23:32:03.542184Z",
     "iopub.status.idle": "2025-06-05T23:32:03.559210Z",
     "shell.execute_reply": "2025-06-05T23:32:03.558469Z",
     "shell.execute_reply.started": "2025-06-05T23:32:03.542417Z"
    }
   },
   "outputs": [
    {
     "data": {
      "text/html": [
       "<div>\n",
       "<style scoped>\n",
       "    .dataframe tbody tr th:only-of-type {\n",
       "        vertical-align: middle;\n",
       "    }\n",
       "\n",
       "    .dataframe tbody tr th {\n",
       "        vertical-align: top;\n",
       "    }\n",
       "\n",
       "    .dataframe thead th {\n",
       "        text-align: right;\n",
       "    }\n",
       "</style>\n",
       "<table border=\"1\" class=\"dataframe\">\n",
       "  <thead>\n",
       "    <tr style=\"text-align: right;\">\n",
       "      <th></th>\n",
       "      <th>code</th>\n",
       "      <th>product_name</th>\n",
       "      <th>brands</th>\n",
       "      <th>categories</th>\n",
       "      <th>ingredients_text</th>\n",
       "      <th>nutrition_grade_fr</th>\n",
       "      <th>energy_100g</th>\n",
       "      <th>carbohydrates_100g</th>\n",
       "      <th>fat_100g</th>\n",
       "      <th>saturated-fat_100g</th>\n",
       "      <th>sugars_100g</th>\n",
       "      <th>salt_100g</th>\n",
       "      <th>proteins_100g</th>\n",
       "    </tr>\n",
       "  </thead>\n",
       "  <tbody>\n",
       "    <tr>\n",
       "      <th>0</th>\n",
       "      <td>0000101209159</td>\n",
       "      <td>Véritable pâte à tartiner noisettes chocolat noir</td>\n",
       "      <td>Bovetti</td>\n",
       "      <td>Petit-déjeuners,Produits à tartiner,Produits à...</td>\n",
       "      <td></td>\n",
       "      <td>e</td>\n",
       "      <td>2582.0</td>\n",
       "      <td>36.00</td>\n",
       "      <td>48.0</td>\n",
       "      <td>10.0</td>\n",
       "      <td>32.0</td>\n",
       "      <td>0.01000</td>\n",
       "      <td>8.00</td>\n",
       "    </tr>\n",
       "    <tr>\n",
       "      <th>1</th>\n",
       "      <td>0000105000011</td>\n",
       "      <td>Chamomile Herbal Tea</td>\n",
       "      <td>Lagg's</td>\n",
       "      <td>null</td>\n",
       "      <td>CHAMOMILE FLOWERS.</td>\n",
       "      <td>unknown</td>\n",
       "      <td>NaN</td>\n",
       "      <td>NaN</td>\n",
       "      <td>NaN</td>\n",
       "      <td>NaN</td>\n",
       "      <td>NaN</td>\n",
       "      <td>NaN</td>\n",
       "      <td>NaN</td>\n",
       "    </tr>\n",
       "    <tr>\n",
       "      <th>2</th>\n",
       "      <td>0000105000042</td>\n",
       "      <td>Lagg's, herbal tea, peppermint</td>\n",
       "      <td>Lagg's</td>\n",
       "      <td>Plant-based foods and beverages, Beverages, Ho...</td>\n",
       "      <td>Peppermint.</td>\n",
       "      <td>unknown</td>\n",
       "      <td>0.0</td>\n",
       "      <td>1.47</td>\n",
       "      <td>0.0</td>\n",
       "      <td>NaN</td>\n",
       "      <td>NaN</td>\n",
       "      <td>0.01000</td>\n",
       "      <td>0.00</td>\n",
       "    </tr>\n",
       "    <tr>\n",
       "      <th>3</th>\n",
       "      <td>0000105000059</td>\n",
       "      <td>Linden Flowers Tea</td>\n",
       "      <td>Lagg's</td>\n",
       "      <td>Beverages and beverages preparations, Plant-ba...</td>\n",
       "      <td>LINDEN FLOWERS.</td>\n",
       "      <td>unknown</td>\n",
       "      <td>NaN</td>\n",
       "      <td>NaN</td>\n",
       "      <td>NaN</td>\n",
       "      <td>NaN</td>\n",
       "      <td>NaN</td>\n",
       "      <td>NaN</td>\n",
       "      <td>NaN</td>\n",
       "    </tr>\n",
       "    <tr>\n",
       "      <th>4</th>\n",
       "      <td>0000105000073</td>\n",
       "      <td>Herbal Tea, Hibiscus</td>\n",
       "      <td>Lagg's</td>\n",
       "      <td>None</td>\n",
       "      <td>Hibiscus flowers.</td>\n",
       "      <td>unknown</td>\n",
       "      <td>1117.0</td>\n",
       "      <td>60.00</td>\n",
       "      <td>0.0</td>\n",
       "      <td>NaN</td>\n",
       "      <td>NaN</td>\n",
       "      <td>0.33782</td>\n",
       "      <td>66.67</td>\n",
       "    </tr>\n",
       "  </tbody>\n",
       "</table>\n",
       "</div>"
      ],
      "text/plain": [
       "            code                                       product_name   brands  \\\n",
       "0  0000101209159  Véritable pâte à tartiner noisettes chocolat noir  Bovetti   \n",
       "1  0000105000011                               Chamomile Herbal Tea   Lagg's   \n",
       "2  0000105000042                     Lagg's, herbal tea, peppermint   Lagg's   \n",
       "3  0000105000059                                 Linden Flowers Tea   Lagg's   \n",
       "4  0000105000073                               Herbal Tea, Hibiscus   Lagg's   \n",
       "\n",
       "                                          categories    ingredients_text  \\\n",
       "0  Petit-déjeuners,Produits à tartiner,Produits à...                       \n",
       "1                                               null  CHAMOMILE FLOWERS.   \n",
       "2  Plant-based foods and beverages, Beverages, Ho...         Peppermint.   \n",
       "3  Beverages and beverages preparations, Plant-ba...     LINDEN FLOWERS.   \n",
       "4                                               None   Hibiscus flowers.   \n",
       "\n",
       "  nutrition_grade_fr  energy_100g  carbohydrates_100g  fat_100g  \\\n",
       "0                  e       2582.0               36.00      48.0   \n",
       "1            unknown          NaN                 NaN       NaN   \n",
       "2            unknown          0.0                1.47       0.0   \n",
       "3            unknown          NaN                 NaN       NaN   \n",
       "4            unknown       1117.0               60.00       0.0   \n",
       "\n",
       "   saturated-fat_100g  sugars_100g  salt_100g  proteins_100g  \n",
       "0                10.0         32.0    0.01000           8.00  \n",
       "1                 NaN          NaN        NaN            NaN  \n",
       "2                 NaN          NaN    0.01000           0.00  \n",
       "3                 NaN          NaN        NaN            NaN  \n",
       "4                 NaN          NaN    0.33782          66.67  "
      ]
     },
     "execution_count": 9,
     "metadata": {},
     "output_type": "execute_result"
    }
   ],
   "source": [
    "df.head()"
   ]
  },
  {
   "cell_type": "code",
   "execution_count": 15,
   "id": "e104548c-88e8-47ef-8dd6-ffdc71f29c21",
   "metadata": {
    "execution": {
     "iopub.execute_input": "2025-06-05T23:40:37.124107Z",
     "iopub.status.busy": "2025-06-05T23:40:37.123299Z",
     "iopub.status.idle": "2025-06-05T23:40:39.023699Z",
     "shell.execute_reply": "2025-06-05T23:40:39.022994Z",
     "shell.execute_reply.started": "2025-06-05T23:40:37.124069Z"
    }
   },
   "outputs": [],
   "source": [
    "output_dir = \"../data/clean_data\"\n",
    "os.makedirs(output_dir, exist_ok=True)\n",
    "output_path = os.path.join(output_dir, \"chunk1.parquet\")\n",
    "df.to_parquet(output_path, index=False)"
   ]
  },
  {
   "cell_type": "code",
   "execution_count": 16,
   "id": "faece943-04a6-48d8-a0df-4883e7528bf8",
   "metadata": {
    "execution": {
     "iopub.execute_input": "2025-06-05T23:42:36.195448Z",
     "iopub.status.busy": "2025-06-05T23:42:36.195213Z",
     "iopub.status.idle": "2025-06-05T23:42:36.553978Z",
     "shell.execute_reply": "2025-06-05T23:42:36.553241Z",
     "shell.execute_reply.started": "2025-06-05T23:42:36.195427Z"
    }
   },
   "outputs": [
    {
     "data": {
      "text/plain": [
       "code                      0\n",
       "product_name           3787\n",
       "brands                49802\n",
       "categories            75311\n",
       "ingredients_text      90434\n",
       "nutrition_grade_fr        3\n",
       "energy_100g           41747\n",
       "carbohydrates_100g    43952\n",
       "fat_100g              43964\n",
       "saturated-fat_100g    65989\n",
       "sugars_100g           53260\n",
       "salt_100g             54142\n",
       "proteins_100g         42801\n",
       "dtype: int64"
      ]
     },
     "execution_count": 16,
     "metadata": {},
     "output_type": "execute_result"
    }
   ],
   "source": [
    "df.isna().sum()"
   ]
  },
  {
   "cell_type": "code",
   "execution_count": 18,
   "id": "23873d92-74b2-4e28-8ce4-63a7446d1f3c",
   "metadata": {
    "execution": {
     "iopub.execute_input": "2025-06-05T23:45:35.495271Z",
     "iopub.status.busy": "2025-06-05T23:45:35.494939Z",
     "iopub.status.idle": "2025-06-05T23:45:35.595335Z",
     "shell.execute_reply": "2025-06-05T23:45:35.594748Z",
     "shell.execute_reply.started": "2025-06-05T23:45:35.495242Z"
    }
   },
   "outputs": [
    {
     "data": {
      "text/plain": [
       "nutrition_grade_fr\n",
       "unknown           136690\n",
       "e                 106030\n",
       "d                  87945\n",
       "c                  67752\n",
       "a                  51148\n",
       "b                  34498\n",
       "not-applicable     15934\n",
       "Name: count, dtype: int64"
      ]
     },
     "execution_count": 18,
     "metadata": {},
     "output_type": "execute_result"
    }
   ],
   "source": [
    "df['nutrition_grade_fr'].value_counts()"
   ]
  }
 ],
 "metadata": {
  "kernelspec": {
   "display_name": "Python 3 (ipykernel)",
   "language": "python",
   "name": "python3"
  },
  "language_info": {
   "codemirror_mode": {
    "name": "ipython",
    "version": 3
   },
   "file_extension": ".py",
   "mimetype": "text/x-python",
   "name": "python",
   "nbconvert_exporter": "python",
   "pygments_lexer": "ipython3",
   "version": "3.12.9"
  }
 },
 "nbformat": 4,
 "nbformat_minor": 5
}

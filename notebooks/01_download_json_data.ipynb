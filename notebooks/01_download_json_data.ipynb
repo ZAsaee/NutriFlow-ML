{
 "cells": [
  {
   "cell_type": "code",
   "execution_count": 1,
   "id": "5d212b55-a260-44ef-af32-9ae508fad6e0",
   "metadata": {
    "execution": {
     "iopub.execute_input": "2025-06-13T20:46:37.019994Z",
     "iopub.status.busy": "2025-06-13T20:46:37.019689Z",
     "iopub.status.idle": "2025-06-13T20:46:37.212576Z",
     "shell.execute_reply": "2025-06-13T20:46:37.211728Z",
     "shell.execute_reply.started": "2025-06-13T20:46:37.019962Z"
    }
   },
   "outputs": [],
   "source": [
    "import requests, boto3"
   ]
  },
  {
   "cell_type": "code",
   "execution_count": 2,
   "id": "13736308-cf11-4c88-8dcc-bafd2ad374a1",
   "metadata": {
    "execution": {
     "iopub.execute_input": "2025-06-13T20:46:37.214571Z",
     "iopub.status.busy": "2025-06-13T20:46:37.214158Z",
     "iopub.status.idle": "2025-06-13T20:46:37.220799Z",
     "shell.execute_reply": "2025-06-13T20:46:37.220012Z",
     "shell.execute_reply.started": "2025-06-13T20:46:37.214537Z"
    }
   },
   "outputs": [],
   "source": [
    "# Dataset URL and local save path\n",
    "url_data = \"https://static.openfoodfacts.org/data/openfoodfacts-products.jsonl.gz\"\n",
    "url_fileds = \"https://static.openfoodfacts.org/data/data-fields.txt\""
   ]
  },
  {
   "cell_type": "code",
   "execution_count": 3,
   "id": "64d10968-a087-4148-8090-6277b41b266f",
   "metadata": {
    "execution": {
     "iopub.execute_input": "2025-06-13T20:46:37.222051Z",
     "iopub.status.busy": "2025-06-13T20:46:37.221814Z",
     "iopub.status.idle": "2025-06-13T20:46:37.228923Z",
     "shell.execute_reply": "2025-06-13T20:46:37.228152Z",
     "shell.execute_reply.started": "2025-06-13T20:46:37.222029Z"
    }
   },
   "outputs": [],
   "source": [
    "# Bucket and key in s3\n",
    "BUCKET = 'nutriflow-pipeline'\n",
    "KEY = 'phase-a/raw/openfoodfacts-products.jsonl.gz'\n",
    "KEY_Field = 'phase-a/raw/data-fields.txt'"
   ]
  },
  {
   "cell_type": "code",
   "execution_count": 4,
   "id": "827b7263-cb4c-4827-b011-789af8d410a5",
   "metadata": {
    "execution": {
     "iopub.execute_input": "2025-06-13T20:46:37.230489Z",
     "iopub.status.busy": "2025-06-13T20:46:37.230115Z",
     "iopub.status.idle": "2025-06-13T20:46:37.413987Z",
     "shell.execute_reply": "2025-06-13T20:46:37.413289Z",
     "shell.execute_reply.started": "2025-06-13T20:46:37.230457Z"
    }
   },
   "outputs": [],
   "source": [
    "# Initiate s3 and multipart uploading\n",
    "s3_client = boto3.client('s3')\n",
    "mpu = s3_client.create_multipart_upload(Bucket=BUCKET, Key=KEY)"
   ]
  },
  {
   "cell_type": "code",
   "execution_count": 5,
   "id": "c90fd1f4-fcd1-4de1-abba-d19d59e30f27",
   "metadata": {
    "execution": {
     "iopub.execute_input": "2025-06-13T20:46:37.421834Z",
     "iopub.status.busy": "2025-06-13T20:46:37.421350Z",
     "iopub.status.idle": "2025-06-13T20:46:38.164335Z",
     "shell.execute_reply": "2025-06-13T20:46:38.163474Z",
     "shell.execute_reply.started": "2025-06-13T20:46:37.421809Z"
    }
   },
   "outputs": [],
   "source": [
    "parts, part_no = [], 1\n",
    "response = requests.get(url_data, stream=True)"
   ]
  },
  {
   "cell_type": "code",
   "execution_count": 6,
   "id": "1905cda5-0338-4247-b783-27d8995872f8",
   "metadata": {
    "editable": true,
    "execution": {
     "iopub.execute_input": "2025-06-13T20:46:38.165819Z",
     "iopub.status.busy": "2025-06-13T20:46:38.165562Z",
     "iopub.status.idle": "2025-06-13T20:53:00.010223Z",
     "shell.execute_reply": "2025-06-13T20:53:00.009213Z",
     "shell.execute_reply.started": "2025-06-13T20:46:38.165798Z"
    },
    "scrolled": true,
    "slideshow": {
     "slide_type": ""
    },
    "tags": []
   },
   "outputs": [
    {
     "name": "stdout",
     "output_type": "stream",
     "text": [
      "Uploaded part 1 — 104,857,600 bytes, ETag=\"a84d0da6dbb2dae066f08478512f240d\"\n",
      "Uploaded part 2 — 104,857,600 bytes, ETag=\"6b678f85b325b9e2d3b7ef548d2dbc3f\"\n",
      "Uploaded part 3 — 104,857,600 bytes, ETag=\"142b40e6c20a142a59d5a7c65daeee23\"\n",
      "Uploaded part 4 — 104,857,600 bytes, ETag=\"aea3fb878631770468edb8fe8d673f33\"\n",
      "Uploaded part 5 — 104,857,600 bytes, ETag=\"292f900802ed84eeb8f63385e7c27254\"\n",
      "Uploaded part 6 — 104,857,600 bytes, ETag=\"cb4a754143f26d11ef19351e76170684\"\n",
      "Uploaded part 7 — 104,857,600 bytes, ETag=\"6bd0bc66479a4418dba5be509f33850e\"\n",
      "Uploaded part 8 — 104,857,600 bytes, ETag=\"4aea418cdc65fe40d00549c6503bea57\"\n",
      "Uploaded part 9 — 104,857,600 bytes, ETag=\"607a1e0abe7002e5444759f8fd18c87d\"\n",
      "Uploaded part 10 — 104,857,600 bytes, ETag=\"e64432c42b06e5fd96a35a83e5bcfef6\"\n",
      "Uploaded part 11 — 104,857,600 bytes, ETag=\"57053b90914744f192cf24fec9a1cbb2\"\n",
      "Uploaded part 12 — 104,857,600 bytes, ETag=\"f73103d09922c2e8fd193cefa44751f6\"\n",
      "Uploaded part 13 — 104,857,600 bytes, ETag=\"4d1ecaf223e1fda9fcd11f7a14e1fc6f\"\n",
      "Uploaded part 14 — 104,857,600 bytes, ETag=\"83f6599076d234e6ed55cd05631c2be7\"\n",
      "Uploaded part 15 — 104,857,600 bytes, ETag=\"c4e3f1c717cac3b2f6bfc7be2f85f983\"\n",
      "Uploaded part 16 — 104,857,600 bytes, ETag=\"95343734defda49db26198c27a67c69e\"\n",
      "Uploaded part 17 — 104,857,600 bytes, ETag=\"2adeb981019e9836a5b76600d896537c\"\n",
      "Uploaded part 18 — 104,857,600 bytes, ETag=\"70381d5fc4bc589cf87f30f03dddd49b\"\n",
      "Uploaded part 19 — 104,857,600 bytes, ETag=\"aaf89f7e8770a3ecdde582320fc9fc76\"\n",
      "Uploaded part 20 — 104,857,600 bytes, ETag=\"ed034bd6eecd56d19c1c571bc77343f3\"\n",
      "Uploaded part 21 — 104,857,600 bytes, ETag=\"7d7186630fcb45fe7886f7d824652a14\"\n",
      "Uploaded part 22 — 104,857,600 bytes, ETag=\"5072f6df65e9d3b1c9f675406a22a07d\"\n",
      "Uploaded part 23 — 104,857,600 bytes, ETag=\"b2ee9bf749de6ad08685d5269604022c\"\n",
      "Uploaded part 24 — 104,857,600 bytes, ETag=\"21c5de7a2d7907ccda108e076b2d7232\"\n",
      "Uploaded part 25 — 104,857,600 bytes, ETag=\"4816a515dc62cf1fac95130068a80080\"\n",
      "Uploaded part 26 — 104,857,600 bytes, ETag=\"2242c2c0b71f3f41d614eaa22361a777\"\n",
      "Uploaded part 27 — 104,857,600 bytes, ETag=\"82cd886f3a7e7f6b91dc8bf33176cc14\"\n",
      "Uploaded part 28 — 104,857,600 bytes, ETag=\"2fe4d39ab6afe4849b56b9c81cdad935\"\n",
      "Uploaded part 29 — 104,857,600 bytes, ETag=\"35ffbf41e237ec07948022c00cf796c4\"\n",
      "Uploaded part 30 — 104,857,600 bytes, ETag=\"d0f556608de483d24947c5c6fdfdc3b0\"\n",
      "Uploaded part 31 — 104,857,600 bytes, ETag=\"3c55d83080825043e61dbb762108c108\"\n",
      "Uploaded part 32 — 104,857,600 bytes, ETag=\"40d71b9f44b48c91b142ba2ed7121a02\"\n",
      "Uploaded part 33 — 104,857,600 bytes, ETag=\"bf0cece900aeabcc8b0e2ca5589db50a\"\n",
      "Uploaded part 34 — 104,857,600 bytes, ETag=\"942aa9b0b35c2de6a5ab20668f4d3cb1\"\n",
      "Uploaded part 35 — 104,857,600 bytes, ETag=\"819065841e7b1aee65ad64ddc73d5114\"\n",
      "Uploaded part 36 — 104,857,600 bytes, ETag=\"fd209d4213905738db66efffab326652\"\n",
      "Uploaded part 37 — 104,857,600 bytes, ETag=\"0201c9b35104d077051db56242de0c09\"\n",
      "Uploaded part 38 — 104,857,600 bytes, ETag=\"3f6b42c534d731ea52884cd3174762c6\"\n",
      "Uploaded part 39 — 104,857,600 bytes, ETag=\"72329ebc9f3299c04b9f809a900eee3f\"\n",
      "Uploaded part 40 — 104,857,600 bytes, ETag=\"822bf036b8ad6805859e746561c451c6\"\n",
      "Uploaded part 41 — 104,857,600 bytes, ETag=\"846a03a35fd52b5227725b46695c177b\"\n",
      "Uploaded part 42 — 104,857,600 bytes, ETag=\"2bc2d15e58a2fb9b7c22941bf9de8f69\"\n",
      "Uploaded part 43 — 104,857,600 bytes, ETag=\"ede863192af59628cb5c5d537517a6ad\"\n",
      "Uploaded part 44 — 104,857,600 bytes, ETag=\"75f776b7b7bde166d00c94b9cf0af37a\"\n",
      "Uploaded part 45 — 104,857,600 bytes, ETag=\"080e83d95806ff9008123bf58f35e7cc\"\n",
      "Uploaded part 46 — 104,857,600 bytes, ETag=\"2455fb2e6afd5a3189242057c1311af5\"\n",
      "Uploaded part 47 — 104,857,600 bytes, ETag=\"a872e6c0df3c9a18f51a3b81b90a9d9a\"\n",
      "Uploaded part 48 — 104,857,600 bytes, ETag=\"d52aee5407b0617caf547af31293f133\"\n",
      "Uploaded part 49 — 104,857,600 bytes, ETag=\"b257a4a037946750e0fac00e693e111b\"\n",
      "Uploaded part 50 — 104,857,600 bytes, ETag=\"a3dc019255a82305e49b257591805539\"\n",
      "Uploaded part 51 — 104,857,600 bytes, ETag=\"857b69106a4635e601710c18aa12825e\"\n",
      "Uploaded part 52 — 104,857,600 bytes, ETag=\"948863c5c7cf6ec21759a4cf12bc70b0\"\n",
      "Uploaded part 53 — 104,857,600 bytes, ETag=\"a8e8b4b784df41244576123daa9620ea\"\n",
      "Uploaded part 54 — 104,857,600 bytes, ETag=\"f4cf1bcac23b6ffc8b49fc0949b88de5\"\n",
      "Uploaded part 55 — 104,857,600 bytes, ETag=\"f33906d84fee88e01f734025b65f7ad4\"\n",
      "Uploaded part 56 — 104,857,600 bytes, ETag=\"83cbe50f91431eab6460d25b80410798\"\n",
      "Uploaded part 57 — 104,857,600 bytes, ETag=\"bee7ce0cef24a8a10598ed6e69dd1d92\"\n",
      "Uploaded part 58 — 104,857,600 bytes, ETag=\"add5220d166dc472397e4804bdb2edc4\"\n",
      "Uploaded part 59 — 104,857,600 bytes, ETag=\"b8ecfe95731cd4d16d3431d1f7695347\"\n",
      "Uploaded part 60 — 104,857,600 bytes, ETag=\"62f02079e82f378a4f0f8e5d300221a6\"\n",
      "Uploaded part 61 — 104,857,600 bytes, ETag=\"d5961a3a12c70c61c63a99cf4aeff272\"\n",
      "Uploaded part 62 — 104,857,600 bytes, ETag=\"e10ba8679250fb8550e80cc5f4690af7\"\n",
      "Uploaded part 63 — 104,857,600 bytes, ETag=\"afdce1e3151a646f1f3e6239a9ed765e\"\n",
      "Uploaded part 64 — 104,857,600 bytes, ETag=\"057020b58206ce2048e4fd444992a0e0\"\n",
      "Uploaded part 65 — 104,857,600 bytes, ETag=\"d0bc5eb0adec70bc07a5488011c13049\"\n",
      "Uploaded part 66 — 104,857,600 bytes, ETag=\"e85382e7baa2682c160769379948ae05\"\n",
      "Uploaded part 67 — 104,857,600 bytes, ETag=\"3afb897eda929f095e353cde2b5e1f0b\"\n",
      "Uploaded part 68 — 104,857,600 bytes, ETag=\"3bac05779c47aba6dd32226e3ff2101e\"\n",
      "Uploaded part 69 — 104,857,600 bytes, ETag=\"fdeb2f2d0fe594fea13f525105d516fd\"\n",
      "Uploaded part 70 — 104,857,600 bytes, ETag=\"58c28ad7f219bc7c60bd0c0b7bedbdc3\"\n",
      "Uploaded part 71 — 104,857,600 bytes, ETag=\"348b80aec55ec00cb43d2a40888af586\"\n",
      "Uploaded part 72 — 104,857,600 bytes, ETag=\"58603d61fa0b3ce64bd7d5deafb22688\"\n",
      "Uploaded part 73 — 104,857,600 bytes, ETag=\"1f260e500beef72d42c959acd9bac83b\"\n",
      "Uploaded part 74 — 104,857,600 bytes, ETag=\"d9a79a8623b9a18e09e68159e1902e2d\"\n",
      "Uploaded part 75 — 104,857,600 bytes, ETag=\"b78131caa95bbf638de813f1fccd4e5d\"\n",
      "Uploaded part 76 — 104,857,600 bytes, ETag=\"ec41f6706331bf336cc23904bf822514\"\n",
      "Uploaded part 77 — 104,857,600 bytes, ETag=\"08a487db1282055b25b7cba85a9b7e28\"\n",
      "Uploaded part 78 — 104,857,600 bytes, ETag=\"ff9d216935e829e5dc3556219bf4d003\"\n",
      "Uploaded part 79 — 104,857,600 bytes, ETag=\"3cd51822b2d627709b7cde98d0f46d88\"\n",
      "Uploaded part 80 — 104,857,600 bytes, ETag=\"6219b4e85f2f697b4f4a24b9144bfadc\"\n",
      "Uploaded part 81 — 104,857,600 bytes, ETag=\"b6c83d52231ac61077f97fd71d37c28f\"\n",
      "Uploaded part 82 — 104,857,600 bytes, ETag=\"ddc8bf1011562110fb0f2e01dd58d6a0\"\n",
      "Uploaded part 83 — 104,857,600 bytes, ETag=\"5798044877611547e7495962f44282ef\"\n",
      "Uploaded part 84 — 104,857,600 bytes, ETag=\"138bb49a22a498aa2871e95714c68d62\"\n",
      "Uploaded part 85 — 104,857,600 bytes, ETag=\"0c62142f3137b1f1f5c9d89561894866\"\n",
      "Uploaded part 86 — 104,857,600 bytes, ETag=\"4e97375beea291432b728f1b8cb4a654\"\n",
      "Uploaded part 87 — 104,857,600 bytes, ETag=\"755fb64881b43f5d0e04a6f9791f6373\"\n",
      "Uploaded part 88 — 104,857,600 bytes, ETag=\"df8e87020661ecbca4bfb4e0d233e01e\"\n",
      "Uploaded part 89 — 104,857,600 bytes, ETag=\"e267674fb14d844f594cb842852c2de8\"\n",
      "Uploaded part 90 — 104,857,600 bytes, ETag=\"8f3f82e618c9a9afa611d0e0ba1c7f60\"\n",
      "Uploaded part 91 — 104,857,600 bytes, ETag=\"f209b9d286b95a2546c191c2f43bf4bc\"\n",
      "Uploaded part 92 — 69,461,127 bytes, ETag=\"32bfed01db0e6a70b228f47b0cad26df\"\n"
     ]
    }
   ],
   "source": [
    "# Download the dataset and upload to s3 in parts\n",
    "for chunk in response.iter_content(chunk_size= 100 * 1024 * 1024): # 100MB parts\n",
    "    if not chunk:\n",
    "        continue\n",
    "    resp = s3_client.upload_part(\n",
    "        Bucket=BUCKET,\n",
    "        Key=KEY,\n",
    "        UploadId=mpu['UploadId'],\n",
    "        PartNumber=part_no,\n",
    "        Body=chunk\n",
    "    )\n",
    "    print(f\"Uploaded part {part_no} — {len(chunk):,} bytes, ETag={resp['ETag']}\")\n",
    "    parts.append({'ETag': resp['ETag'], 'PartNumber': part_no})\n",
    "    part_no += 1"
   ]
  },
  {
   "cell_type": "code",
   "execution_count": 7,
   "id": "7efe801c-babe-4f9e-8645-f43849820305",
   "metadata": {
    "execution": {
     "iopub.execute_input": "2025-06-13T20:53:00.013048Z",
     "iopub.status.busy": "2025-06-13T20:53:00.012681Z",
     "iopub.status.idle": "2025-06-13T20:53:00.219603Z",
     "shell.execute_reply": "2025-06-13T20:53:00.218852Z",
     "shell.execute_reply.started": "2025-06-13T20:53:00.013015Z"
    }
   },
   "outputs": [
    {
     "name": "stdout",
     "output_type": "stream",
     "text": [
      "CompleteMultipartUpload response:\n",
      "{'ResponseMetadata': {'RequestId': 'KJTTEJDVK0NRQ2QM', 'HostId': '0qQ6gn8K/RoKdh111p4vuUrhUqGRIOUVIRWwpBPJBtq7ukftIkDdNQNGeyh1rKD4mlO2y7yGuZw=', 'HTTPStatusCode': 200, 'HTTPHeaders': {'x-amz-id-2': '0qQ6gn8K/RoKdh111p4vuUrhUqGRIOUVIRWwpBPJBtq7ukftIkDdNQNGeyh1rKD4mlO2y7yGuZw=', 'x-amz-request-id': 'KJTTEJDVK0NRQ2QM', 'date': 'Fri, 13 Jun 2025 20:53:01 GMT', 'x-amz-server-side-encryption': 'AES256', 'content-type': 'application/xml', 'transfer-encoding': 'chunked', 'server': 'AmazonS3'}, 'RetryAttempts': 0}, 'ServerSideEncryption': 'AES256', 'Location': 'https://nutriflow-pipeline.s3.amazonaws.com/phase-a%2Fraw%2Fopenfoodfacts-products.jsonl.gz', 'Bucket': 'nutriflow-pipeline', 'Key': 'phase-a/raw/openfoodfacts-products.jsonl.gz', 'ETag': '\"923434b766c2a517fdcecf3136c0fe0c-92\"', 'ChecksumCRC64NVME': 'ZPvEudaqLHo=', 'ChecksumType': 'FULL_OBJECT'}\n"
     ]
    }
   ],
   "source": [
    "# Finalize\n",
    "completed = s3_client.complete_multipart_upload(\n",
    "        Bucket=BUCKET,\n",
    "        Key=KEY,\n",
    "        UploadId=mpu['UploadId'],\n",
    "        MultipartUpload={'Parts': parts}\n",
    ")\n",
    "\n",
    "print(\"CompleteMultipartUpload response:\")\n",
    "print(completed)"
   ]
  },
  {
   "cell_type": "code",
   "execution_count": 8,
   "id": "d5fa99f1-3832-44a0-85d6-3dd194ec5d53",
   "metadata": {
    "editable": true,
    "execution": {
     "iopub.execute_input": "2025-06-13T20:53:00.525856Z",
     "iopub.status.busy": "2025-06-13T20:53:00.525565Z",
     "iopub.status.idle": "2025-06-13T20:53:00.906326Z",
     "shell.execute_reply": "2025-06-13T20:53:00.905492Z",
     "shell.execute_reply.started": "2025-06-13T20:53:00.525834Z"
    },
    "slideshow": {
     "slide_type": ""
    },
    "tags": []
   },
   "outputs": [],
   "source": [
    "resp_field = requests.get(url_fileds, stream=True)\n",
    "s3_client.upload_fileobj(Bucket=BUCKET, Key=KEY_Field, Fileobj=resp_field.raw)"
   ]
  }
 ],
 "metadata": {
  "kernelspec": {
   "display_name": "Python 3 (ipykernel)",
   "language": "python",
   "name": "python3"
  },
  "language_info": {
   "codemirror_mode": {
    "name": "ipython",
    "version": 3
   },
   "file_extension": ".py",
   "mimetype": "text/x-python",
   "name": "python",
   "nbconvert_exporter": "python",
   "pygments_lexer": "ipython3",
   "version": "3.12.9"
  }
 },
 "nbformat": 4,
 "nbformat_minor": 5
}
